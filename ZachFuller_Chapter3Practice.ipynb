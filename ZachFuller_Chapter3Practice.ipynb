{
 "cells": [
  {
   "cell_type": "markdown",
   "id": "71deee9a-4b85-4cf7-bda1-e088cd6e5259",
   "metadata": {},
   "source": [
    "3.5 Examples"
   ]
  },
  {
   "cell_type": "code",
   "execution_count": 1,
   "id": "d9189a7b-0be0-4e79-80b0-8d05c0d36462",
   "metadata": {},
   "outputs": [],
   "source": [
    "grade = 85"
   ]
  },
  {
   "cell_type": "code",
   "execution_count": 2,
   "id": "6ae25865-2975-4858-8c72-0b68bc595542",
   "metadata": {},
   "outputs": [
    {
     "name": "stdout",
     "output_type": "stream",
     "text": [
      "Passed\n"
     ]
    }
   ],
   "source": [
    "if grade >= 60:\n",
    "    print('Passed')"
   ]
  },
  {
   "cell_type": "code",
   "execution_count": 3,
   "id": "0f0e429c-5898-4adf-92a3-045c8709ec36",
   "metadata": {},
   "outputs": [
    {
     "name": "stdout",
     "output_type": "stream",
     "text": [
      "Nonzero values are true, so this will print\n"
     ]
    }
   ],
   "source": [
    "if 1:\n",
    "    print('Nonzero values are true, so this will print')"
   ]
  },
  {
   "cell_type": "code",
   "execution_count": 4,
   "id": "dc99200d-1f67-42a5-ae60-087fd19e6529",
   "metadata": {},
   "outputs": [],
   "source": [
    "if 0:\n",
    "    print('zero is false, so this will not print')"
   ]
  },
  {
   "cell_type": "code",
   "execution_count": 5,
   "id": "6061986c-f211-45fe-b245-b9543c3b5b5f",
   "metadata": {},
   "outputs": [],
   "source": [
    "grade = 55"
   ]
  },
  {
   "cell_type": "code",
   "execution_count": 8,
   "id": "949d4c69-da98-4e4c-9a83-818901b747d7",
   "metadata": {},
   "outputs": [],
   "source": [
    "if grade >= 60:\n",
    "    print('Passed')"
   ]
  },
  {
   "cell_type": "markdown",
   "id": "4bd149eb-6187-4437-98c4-bf6d76a41ce8",
   "metadata": {},
   "source": [
    "3.6 Examples"
   ]
  },
  {
   "cell_type": "code",
   "execution_count": 9,
   "id": "4a7599f6-7074-400d-8605-ab123ab33073",
   "metadata": {},
   "outputs": [],
   "source": [
    "grade = 85"
   ]
  },
  {
   "cell_type": "code",
   "execution_count": 10,
   "id": "1d958d72-16a6-42bd-a551-4d6443b21f66",
   "metadata": {},
   "outputs": [
    {
     "name": "stdout",
     "output_type": "stream",
     "text": [
      "Passed\n"
     ]
    }
   ],
   "source": [
    "if grade >= 60:\n",
    "    print('Passed')\n",
    "else:\n",
    "    print('Failed')"
   ]
  },
  {
   "cell_type": "code",
   "execution_count": 13,
   "id": "3ca40049-8ecf-42bf-9d3f-38b678eeee45",
   "metadata": {},
   "outputs": [],
   "source": [
    "grade = 99"
   ]
  },
  {
   "cell_type": "code",
   "execution_count": 14,
   "id": "98f02894-d53a-44e6-b9c0-e3f8123416cf",
   "metadata": {},
   "outputs": [
    {
     "name": "stdout",
     "output_type": "stream",
     "text": [
      "Passed\n"
     ]
    }
   ],
   "source": [
    "if grade >= 60:\n",
    "    print('Passed')\n",
    "else:\n",
    "    print('Failed')"
   ]
  },
  {
   "cell_type": "code",
   "execution_count": 16,
   "id": "3d50b875-bc1d-463a-a077-01d00ed45bc7",
   "metadata": {},
   "outputs": [],
   "source": [
    "grade = 87"
   ]
  },
  {
   "cell_type": "code",
   "execution_count": 18,
   "id": "70f59173-6321-4e9e-8708-489c7311a334",
   "metadata": {},
   "outputs": [],
   "source": [
    "if grade >= 60:\n",
    "    result = 'Passed'\n",
    "else:\n",
    "    result = 'Failed'"
   ]
  },
  {
   "cell_type": "code",
   "execution_count": 19,
   "id": "18da7504-f5ca-420e-95c5-07f62c7f14c9",
   "metadata": {},
   "outputs": [
    {
     "data": {
      "text/plain": [
       "'Passed'"
      ]
     },
     "execution_count": 19,
     "metadata": {},
     "output_type": "execute_result"
    }
   ],
   "source": [
    "result"
   ]
  },
  {
   "cell_type": "code",
   "execution_count": 20,
   "id": "1bfd3c9a-c9b9-453c-9d90-f67ab54dbfc5",
   "metadata": {},
   "outputs": [],
   "source": [
    "result = ('Passed' if grade >= 60 else 'Failed')"
   ]
  },
  {
   "cell_type": "code",
   "execution_count": 21,
   "id": "f991888a-6eb8-45c6-9a8d-697be2c93810",
   "metadata": {},
   "outputs": [
    {
     "data": {
      "text/plain": [
       "'Passed'"
      ]
     },
     "execution_count": 21,
     "metadata": {},
     "output_type": "execute_result"
    }
   ],
   "source": [
    "result"
   ]
  },
  {
   "cell_type": "code",
   "execution_count": 22,
   "id": "fa09d306-1153-446a-8b57-813e1bdb8e96",
   "metadata": {},
   "outputs": [
    {
     "data": {
      "text/plain": [
       "'Passed'"
      ]
     },
     "execution_count": 22,
     "metadata": {},
     "output_type": "execute_result"
    }
   ],
   "source": [
    "'Passed' if grade >= 60 else 'Failed'"
   ]
  },
  {
   "cell_type": "code",
   "execution_count": 23,
   "id": "7a22d2e3-a2ea-497c-b8b0-b3a9f5785030",
   "metadata": {},
   "outputs": [],
   "source": [
    "grade = 49"
   ]
  },
  {
   "cell_type": "code",
   "execution_count": 24,
   "id": "26eb55be-b133-45f6-8de2-0cfa0f71cb62",
   "metadata": {},
   "outputs": [
    {
     "name": "stdout",
     "output_type": "stream",
     "text": [
      "Failed\n",
      "You must take this course again\n"
     ]
    }
   ],
   "source": [
    "if grade >= 60:\n",
    "    print('Passed')\n",
    "else:\n",
    "    print('Failed')\n",
    "    print('You must take this course again')"
   ]
  },
  {
   "cell_type": "code",
   "execution_count": 25,
   "id": "ec67cd50-da4f-4950-9e9b-43196917e7fc",
   "metadata": {},
   "outputs": [],
   "source": [
    "grade = 77"
   ]
  },
  {
   "cell_type": "code",
   "execution_count": 26,
   "id": "9bde6266-c7b7-4704-b6f7-b0f4fecbc183",
   "metadata": {},
   "outputs": [
    {
     "name": "stdout",
     "output_type": "stream",
     "text": [
      "C\n"
     ]
    }
   ],
   "source": [
    "if grade >= 90:\n",
    "    print('A')\n",
    "elif grade >= 80:\n",
    "    print ('B')\n",
    "elif grade >= 70:\n",
    "    print ('C')\n",
    "elif grade >= 60:\n",
    "    print('D')\n",
    "else:\n",
    "    print('F')"
   ]
  },
  {
   "cell_type": "markdown",
   "id": "1ba2eb23-8895-46c5-9b5c-8272797565a8",
   "metadata": {},
   "source": [
    "3.7 Examples"
   ]
  },
  {
   "cell_type": "code",
   "execution_count": 28,
   "id": "08d03984-f284-4dab-b199-845bcc7b73cb",
   "metadata": {},
   "outputs": [],
   "source": [
    "product = 3"
   ]
  },
  {
   "cell_type": "code",
   "execution_count": 30,
   "id": "0255aab9-f280-40fa-bf3f-f4cb2ae8806d",
   "metadata": {},
   "outputs": [],
   "source": [
    "while product <= 50:\n",
    "    product = product * 3"
   ]
  },
  {
   "cell_type": "code",
   "execution_count": 31,
   "id": "23783623-5fa0-47cc-93e9-07eb4f92ed3f",
   "metadata": {},
   "outputs": [
    {
     "data": {
      "text/plain": [
       "81"
      ]
     },
     "execution_count": 31,
     "metadata": {},
     "output_type": "execute_result"
    }
   ],
   "source": [
    "product"
   ]
  },
  {
   "cell_type": "code",
   "execution_count": 32,
   "id": "fb7f61e7-6831-403e-973a-94c3e1a9f51f",
   "metadata": {},
   "outputs": [],
   "source": [
    "product = 7"
   ]
  },
  {
   "cell_type": "code",
   "execution_count": 33,
   "id": "e8fdb0b8-3dcf-446b-8903-50e49155e682",
   "metadata": {},
   "outputs": [],
   "source": [
    "while product <= 1000:\n",
    "    product = product * 7"
   ]
  },
  {
   "cell_type": "code",
   "execution_count": 34,
   "id": "8604c150-2d7f-4ba6-afe6-f8d66a06b182",
   "metadata": {},
   "outputs": [
    {
     "data": {
      "text/plain": [
       "2401"
      ]
     },
     "execution_count": 34,
     "metadata": {},
     "output_type": "execute_result"
    }
   ],
   "source": [
    "product"
   ]
  },
  {
   "cell_type": "markdown",
   "id": "83a24c30-47ba-404b-affc-a2eb8d5b640e",
   "metadata": {},
   "source": [
    "3.8 Exercises"
   ]
  },
  {
   "cell_type": "code",
   "execution_count": 35,
   "id": "d56f899a-d71d-469e-97dc-96ef116dd812",
   "metadata": {},
   "outputs": [
    {
     "name": "stdout",
     "output_type": "stream",
     "text": [
      "P r o g r a m m i n g "
     ]
    }
   ],
   "source": [
    "for character in 'Programming':\n",
    "    print(character, end=' ')"
   ]
  },
  {
   "cell_type": "code",
   "execution_count": 36,
   "id": "6a3217c5-e0d1-4183-8367-f81c9a2caf32",
   "metadata": {},
   "outputs": [
    {
     "name": "stdout",
     "output_type": "stream",
     "text": [
      "10, 20, 30\n"
     ]
    }
   ],
   "source": [
    "print(10, 20, 30, sep=', ')"
   ]
  },
  {
   "cell_type": "markdown",
   "id": "0684caba-24d9-47cb-b1a1-4d799d1702a2",
   "metadata": {},
   "source": [
    "3.8.1 Exercise"
   ]
  },
  {
   "cell_type": "code",
   "execution_count": 37,
   "id": "a2c5abee-a38f-45fa-9a1a-3086cd9f231b",
   "metadata": {},
   "outputs": [],
   "source": [
    "total = 0"
   ]
  },
  {
   "cell_type": "code",
   "execution_count": 38,
   "id": "f46a2b5f-3e19-4556-9e34-c1695936d210",
   "metadata": {},
   "outputs": [],
   "source": [
    "for number in [2, -3, 0, 17, 9]:\n",
    "    total = total + number"
   ]
  },
  {
   "cell_type": "code",
   "execution_count": 40,
   "id": "3ec289d1-a197-499c-9826-e65ddf5312f4",
   "metadata": {},
   "outputs": [
    {
     "data": {
      "text/plain": [
       "25"
      ]
     },
     "execution_count": 40,
     "metadata": {},
     "output_type": "execute_result"
    }
   ],
   "source": [
    "total"
   ]
  },
  {
   "cell_type": "markdown",
   "id": "d9d568fd-ef50-4a8a-98d8-857151b1d4ff",
   "metadata": {},
   "source": [
    "3.8.2 Exercises"
   ]
  },
  {
   "cell_type": "code",
   "execution_count": 41,
   "id": "a5290751-c9e0-4906-a030-8b8e9ab27c45",
   "metadata": {},
   "outputs": [
    {
     "name": "stdout",
     "output_type": "stream",
     "text": [
      "0  1  2  3  4  5  6  7  8  9  "
     ]
    }
   ],
   "source": [
    "for counter in range(10):\n",
    "    print (counter, end='  ')"
   ]
  },
  {
   "cell_type": "code",
   "execution_count": 42,
   "id": "9a7cc394-bfe2-4814-9ee8-5b329ca80e7d",
   "metadata": {},
   "outputs": [],
   "source": [
    "total = 0"
   ]
  },
  {
   "cell_type": "code",
   "execution_count": 43,
   "id": "9b150c4d-86f6-4a5d-8518-89d3910b39cd",
   "metadata": {},
   "outputs": [],
   "source": [
    "for number in range(1000001):\n",
    "    total = total + number"
   ]
  },
  {
   "cell_type": "code",
   "execution_count": 44,
   "id": "7dab4738-eb6b-4a1f-93fd-f4cb821729b9",
   "metadata": {},
   "outputs": [
    {
     "data": {
      "text/plain": [
       "500000500000"
      ]
     },
     "execution_count": 44,
     "metadata": {},
     "output_type": "execute_result"
    }
   ],
   "source": [
    "total"
   ]
  },
  {
   "cell_type": "markdown",
   "id": "4ebdbd94-797b-4a95-8013-47eee876103d",
   "metadata": {},
   "source": [
    "3.9 Exercises"
   ]
  },
  {
   "cell_type": "code",
   "execution_count": 45,
   "id": "6a0d9dca-16a3-4b6b-afef-41e51c3d9335",
   "metadata": {},
   "outputs": [],
   "source": [
    "total = 0"
   ]
  },
  {
   "cell_type": "code",
   "execution_count": 46,
   "id": "a767a68c-2509-4852-ab9d-c9a94584e0c3",
   "metadata": {},
   "outputs": [],
   "source": [
    "for number in [1, 2, 3, 4, 5]:\n",
    "    total += number #add number to total and store in number"
   ]
  },
  {
   "cell_type": "code",
   "execution_count": 47,
   "id": "2f04f8d0-9d63-47ba-8983-5e1de68d03a4",
   "metadata": {},
   "outputs": [
    {
     "data": {
      "text/plain": [
       "15"
      ]
     },
     "execution_count": 47,
     "metadata": {},
     "output_type": "execute_result"
    }
   ],
   "source": [
    "total"
   ]
  },
  {
   "cell_type": "code",
   "execution_count": 48,
   "id": "ccd6326e-09d1-4d0f-8b23-bdce29c727df",
   "metadata": {},
   "outputs": [],
   "source": [
    "x = 12"
   ]
  },
  {
   "cell_type": "code",
   "execution_count": 49,
   "id": "ca777afb-299b-471e-a57c-0ef088c0bbbd",
   "metadata": {},
   "outputs": [],
   "source": [
    "x **= 2"
   ]
  },
  {
   "cell_type": "code",
   "execution_count": 50,
   "id": "f22bdd5a-f627-42d4-bfa7-682636360ede",
   "metadata": {},
   "outputs": [
    {
     "data": {
      "text/plain": [
       "144"
      ]
     },
     "execution_count": 50,
     "metadata": {},
     "output_type": "execute_result"
    }
   ],
   "source": [
    "x"
   ]
  },
  {
   "cell_type": "markdown",
   "id": "7aff98cf-29e8-4828-9b87-204cd1621063",
   "metadata": {},
   "source": [
    "3.10 Exercises"
   ]
  },
  {
   "cell_type": "code",
   "execution_count": 51,
   "id": "260a3775-48c8-461b-b0cb-b0cbc8626bd4",
   "metadata": {},
   "outputs": [
    {
     "name": "stdout",
     "output_type": "stream",
     "text": [
      "Class average is 81.7\n"
     ]
    }
   ],
   "source": [
    "#fig03_01.py\n",
    "\"\"\"Class average program with sequence-controlled repetition.\"\"\"\n",
    "\n",
    "#initialization phase\n",
    "total = 0 #sum of grades\n",
    "grade_counter = 0\n",
    "grades = [98, 76, 71, 87, 83, 90, 57, 79, 82, 94] #list of grades\n",
    "\n",
    "#processing phase\n",
    "for grade in grades:\n",
    "    total += grade #add current grade to the running total\n",
    "    grade_counter += 1 #indicate that one more grade was processed\n",
    "    \n",
    "#termination phase\n",
    "average = total / grade_counter\n",
    "print(f'Class average is {average}')"
   ]
  },
  {
   "cell_type": "code",
   "execution_count": 52,
   "id": "a9245dd1-9cc1-4c42-a9f2-85ad914475bd",
   "metadata": {},
   "outputs": [],
   "source": [
    "number1 = 7"
   ]
  },
  {
   "cell_type": "code",
   "execution_count": 53,
   "id": "b218e428-0247-453c-816f-ce4a46cd46dd",
   "metadata": {},
   "outputs": [],
   "source": [
    "number2 = 5"
   ]
  },
  {
   "cell_type": "code",
   "execution_count": 54,
   "id": "f409f56d-360a-4b95-8b34-0f2b7a1d6a8f",
   "metadata": {},
   "outputs": [
    {
     "name": "stdout",
     "output_type": "stream",
     "text": [
      "7 times 5 is 35\n"
     ]
    }
   ],
   "source": [
    "print(f'{number1} times {number2} is {number1 * number2}')"
   ]
  },
  {
   "cell_type": "markdown",
   "id": "a581c9bb-c2b2-48d9-96af-cb0375f57c0c",
   "metadata": {},
   "source": [
    "3.11 Exercises"
   ]
  },
  {
   "cell_type": "code",
   "execution_count": 58,
   "id": "243727a0-6674-465c-9eca-aaeed0525223",
   "metadata": {},
   "outputs": [
    {
     "name": "stdin",
     "output_type": "stream",
     "text": [
      "enter grade, -1 to end:  97\n",
      "enter grade, -1 to end:  88\n",
      "enter grade, -1 to end:  72\n",
      "enter grade, -1 to end:  -1\n"
     ]
    },
    {
     "name": "stdout",
     "output_type": "stream",
     "text": [
      "Class average is 85.67\n"
     ]
    }
   ],
   "source": [
    "#fig03_02.py\n",
    "\"\"\"class average program with sentinel-controlled iteration.\"\"\"\n",
    "\n",
    "#initialization phase\n",
    "total = 0 #sum of grades\n",
    "grade_counter = 0 #number of grades entered\n",
    "\n",
    "#processing phase\n",
    "grade = int(input('enter grade, -1 to end: ')) #get one grade\n",
    "\n",
    "while grade != -1:\n",
    "    total += grade\n",
    "    grade_counter += 1\n",
    "    grade = int(input('enter grade, -1 to end: '))\n",
    "    \n",
    "#termination phase\n",
    "if grade_counter != 0:\n",
    "    average = total /grade_counter\n",
    "    print(f'Class average is {average:.2f}')\n",
    "else:\n",
    "    print('No grades were entered')"
   ]
  },
  {
   "cell_type": "markdown",
   "id": "e85e3524-a422-4b16-83a3-b960cff47563",
   "metadata": {},
   "source": [
    "3.12 Exercises"
   ]
  },
  {
   "cell_type": "code",
   "execution_count": 59,
   "id": "e772ff3a-8a47-4d87-9e1a-0e839aa94c44",
   "metadata": {},
   "outputs": [
    {
     "name": "stdin",
     "output_type": "stream",
     "text": [
      "enter result (1=pass, 2+fail):  1\n",
      "enter result (1=pass, 2+fail):  2\n",
      "enter result (1=pass, 2+fail):  2\n",
      "enter result (1=pass, 2+fail):  1\n",
      "enter result (1=pass, 2+fail):  1\n",
      "enter result (1=pass, 2+fail):  1\n",
      "enter result (1=pass, 2+fail):  2\n",
      "enter result (1=pass, 2+fail):  1\n",
      "enter result (1=pass, 2+fail):  1\n",
      "enter result (1=pass, 2+fail):  2\n"
     ]
    },
    {
     "name": "stdout",
     "output_type": "stream",
     "text": [
      "Passed: 6\n",
      "Failed: 4\n"
     ]
    }
   ],
   "source": [
    "#fig03_03.py\n",
    "\"\"\"Using nested control statements to analyze examination results.\"\"\"\n",
    "\n",
    "#initialize variables\n",
    "passes =  0 #number of passes\n",
    "failures = 0 #number of failures\n",
    "\n",
    "#process 10 students\n",
    "for student in range(10):\n",
    "    #get one exam result\n",
    "    result = int(input('enter result (1=pass, 2=fail): '))\n",
    "    \n",
    "    if result == 1:\n",
    "        passes = passes + 1\n",
    "    else:\n",
    "        failures = failures + 1\n",
    "        \n",
    "#termination phase\n",
    "print('Passed:', passes)\n",
    "print('Failed:', failures)\n",
    "\n",
    "if passes > 8:\n",
    "    print('Bonus to instructor')"
   ]
  },
  {
   "cell_type": "code",
   "execution_count": 60,
   "id": "d19e40d5-9735-407f-9273-4ee045520f02",
   "metadata": {},
   "outputs": [
    {
     "name": "stdin",
     "output_type": "stream",
     "text": [
      "enter result (1=pass, 2=fail):  1\n",
      "enter result (1=pass, 2=fail):  1\n",
      "enter result (1=pass, 2=fail):  1\n",
      "enter result (1=pass, 2=fail):  1\n",
      "enter result (1=pass, 2=fail):  2\n",
      "enter result (1=pass, 2=fail):  1\n",
      "enter result (1=pass, 2=fail):  1\n",
      "enter result (1=pass, 2=fail):  1\n",
      "enter result (1=pass, 2=fail):  1\n",
      "enter result (1=pass, 2=fail):  1\n"
     ]
    },
    {
     "name": "stdout",
     "output_type": "stream",
     "text": [
      "Passed: 9\n",
      "Failed: 1\n",
      "Bonus to instructor\n"
     ]
    }
   ],
   "source": [
    "#fig03_03.py\n",
    "\"\"\"Using nested control statements to analyze examination results.\"\"\"\n",
    "\n",
    "#initialize variables\n",
    "passes =  0 #number of passes\n",
    "failures = 0 #number of failures\n",
    "\n",
    "#process 10 students\n",
    "for student in range(10):\n",
    "    #get one exam result\n",
    "    result = int(input('enter result (1=pass, 2=fail): '))\n",
    "    \n",
    "    if result == 1:\n",
    "        passes = passes + 1\n",
    "    else:\n",
    "        failures = failures + 1\n",
    "        \n",
    "#termination phase\n",
    "print('Passed:', passes)\n",
    "print('Failed:', failures)\n",
    "\n",
    "if passes > 8:\n",
    "    print('Bonus to instructor')"
   ]
  },
  {
   "cell_type": "code",
   "execution_count": 61,
   "id": "3ce9635e-4bb0-493d-83e9-b494824b9375",
   "metadata": {},
   "outputs": [
    {
     "name": "stdin",
     "output_type": "stream",
     "text": [
      "Enter an integer:  10\n"
     ]
    },
    {
     "name": "stdout",
     "output_type": "stream",
     "text": [
      "10 is even\n"
     ]
    },
    {
     "name": "stdin",
     "output_type": "stream",
     "text": [
      "Enter an integer:  7\n"
     ]
    },
    {
     "name": "stdout",
     "output_type": "stream",
     "text": [
      "7 is odd\n"
     ]
    }
   ],
   "source": [
    "for count in range(2):\n",
    "    value = int(input('Enter an integer: '))\n",
    "    if value % 2 == 0:\n",
    "        print(f'{value} is even')\n",
    "    else:\n",
    "        print(f'{value} is odd')"
   ]
  },
  {
   "cell_type": "markdown",
   "id": "84128987-cad8-4b5c-ba13-bc12296fc8ab",
   "metadata": {},
   "source": [
    "3.13 Exercises"
   ]
  },
  {
   "cell_type": "code",
   "execution_count": 63,
   "id": "a42770de-ad4f-4cf2-bc82-76896bdb198f",
   "metadata": {},
   "outputs": [
    {
     "name": "stdout",
     "output_type": "stream",
     "text": [
      "5  6  7  8  9  "
     ]
    }
   ],
   "source": [
    "for number in range(5, 10):\n",
    "    print(number, end='  ')"
   ]
  },
  {
   "cell_type": "code",
   "execution_count": 64,
   "id": "0ee34cc2-a2e9-4f06-adea-646d40f7ac11",
   "metadata": {},
   "outputs": [
    {
     "name": "stdout",
     "output_type": "stream",
     "text": [
      "0  2  4  6  8  "
     ]
    }
   ],
   "source": [
    "for number in range(0, 10, 2):\n",
    "    print(number, end='  ')"
   ]
  },
  {
   "cell_type": "code",
   "execution_count": 65,
   "id": "7f170fdf-5ae4-4d77-bc05-a74d9e5b2bb7",
   "metadata": {},
   "outputs": [
    {
     "name": "stdout",
     "output_type": "stream",
     "text": [
      "10  8  6  4  2  "
     ]
    }
   ],
   "source": [
    "for number in range(10, 0, -2):\n",
    "    print(number, end='  ')"
   ]
  },
  {
   "cell_type": "code",
   "execution_count": 67,
   "id": "bec5db7f-0604-4557-8b74-89d182770e2e",
   "metadata": {},
   "outputs": [],
   "source": [
    "for number in range(10, 0, 2):\n",
    "    print(number, end='  ')"
   ]
  },
  {
   "cell_type": "code",
   "execution_count": 68,
   "id": "34567485-cd2f-4e24-9a76-6b24b6600100",
   "metadata": {},
   "outputs": [
    {
     "name": "stdout",
     "output_type": "stream",
     "text": [
      "99  88  77  66  55  44  33  22  11  0  "
     ]
    }
   ],
   "source": [
    "for number in range(99, -1, -11):\n",
    "    print(number, end='  ')"
   ]
  },
  {
   "cell_type": "code",
   "execution_count": 69,
   "id": "6f96dd66-602f-4499-a9cc-ed86b7581d4c",
   "metadata": {},
   "outputs": [
    {
     "data": {
      "text/plain": [
       "2550"
      ]
     },
     "execution_count": 69,
     "metadata": {},
     "output_type": "execute_result"
    }
   ],
   "source": [
    "total = 0\n",
    "\n",
    "for number in range(2, 101, 2):\n",
    "    total += number\n",
    "    \n",
    "total"
   ]
  },
  {
   "cell_type": "markdown",
   "id": "ec6ac09c-b067-4ff1-aa38-1f55a6d95d29",
   "metadata": {},
   "source": [
    "3.14 Exercises"
   ]
  },
  {
   "cell_type": "code",
   "execution_count": 70,
   "id": "f4042dd6-78ea-4a62-9eb5-15d548d3c0d6",
   "metadata": {},
   "outputs": [
    {
     "name": "stdout",
     "output_type": "stream",
     "text": [
      "112.31000000000000227374\n"
     ]
    }
   ],
   "source": [
    "amount = 112.31\n",
    "\n",
    "print(f'{amount:.20f}')"
   ]
  },
  {
   "cell_type": "code",
   "execution_count": 71,
   "id": "c5f4f5c6-a926-4c9e-a709-d98bc04e05bf",
   "metadata": {},
   "outputs": [],
   "source": [
    "import decimal"
   ]
  },
  {
   "cell_type": "code",
   "execution_count": 72,
   "id": "d2ba0b1a-6378-443f-b87e-f0688521fc92",
   "metadata": {},
   "outputs": [],
   "source": [
    "from decimal import Decimal"
   ]
  },
  {
   "cell_type": "code",
   "execution_count": 73,
   "id": "dec0a4d4-84ec-40d7-98be-ded0509380e3",
   "metadata": {},
   "outputs": [
    {
     "data": {
      "text/plain": [
       "Decimal('0.05')"
      ]
     },
     "execution_count": 73,
     "metadata": {},
     "output_type": "execute_result"
    }
   ],
   "source": [
    "principal = Decimal('1000.00')\n",
    "\n",
    "principal\n",
    "Decimal('1000.00')\n",
    "\n",
    "rate = Decimal('0.05')\n",
    "\n",
    "rate\n",
    "Decimal('0.05')"
   ]
  },
  {
   "cell_type": "code",
   "execution_count": 74,
   "id": "6390897b-1bcb-4206-9f69-40f9c836e22b",
   "metadata": {},
   "outputs": [
    {
     "data": {
      "text/plain": [
       "Decimal('12.5')"
      ]
     },
     "execution_count": 74,
     "metadata": {},
     "output_type": "execute_result"
    }
   ],
   "source": [
    "x = Decimal('10.5')\n",
    "\n",
    "y = Decimal('2')\n",
    "\n",
    "x + y\n",
    "Decimal('12.5')\n",
    "\n",
    "x // y\n",
    "Decimal('5')\n",
    "\n",
    "x += y\n",
    "\n",
    "x\n",
    "Decimal('12.5')"
   ]
  },
  {
   "cell_type": "code",
   "execution_count": 75,
   "id": "07866045-e8d9-4a2c-9d83-3b16dfc905bc",
   "metadata": {},
   "outputs": [
    {
     "name": "stdout",
     "output_type": "stream",
     "text": [
      " 1   1050.00\n",
      " 2   1102.50\n",
      " 3   1157.62\n",
      " 4   1215.51\n",
      " 5   1276.28\n",
      " 6   1340.10\n",
      " 7   1407.10\n",
      " 8   1477.46\n",
      " 9   1551.33\n",
      "10   1628.89\n"
     ]
    }
   ],
   "source": [
    "for year in range(1, 11):\n",
    "    amount = principal * (1 + rate) ** year\n",
    "    print(f'{year:>2}{amount:>10.2f}')"
   ]
  },
  {
   "cell_type": "code",
   "execution_count": 77,
   "id": "39c8b241-3194-4c10-8060-5d9bb1c92a69",
   "metadata": {},
   "outputs": [
    {
     "name": "stdout",
     "output_type": "stream",
     "text": [
      "39.79\n"
     ]
    }
   ],
   "source": [
    "from decimal import Decimal\n",
    "\n",
    "print(f\"{Decimal('37.45') * Decimal('1.0625'):.2f}\")"
   ]
  },
  {
   "cell_type": "markdown",
   "id": "4e3b53c9-090b-4b7c-8d51-72632d067873",
   "metadata": {},
   "source": [
    "3.15 Exercises"
   ]
  },
  {
   "cell_type": "code",
   "execution_count": 78,
   "id": "3faaf2ee-9424-4e87-afb4-5e48703ea386",
   "metadata": {},
   "outputs": [
    {
     "name": "stdout",
     "output_type": "stream",
     "text": [
      "0  1  2  3  4  5  6  7  8  9  "
     ]
    }
   ],
   "source": [
    "for number in range(100):\n",
    "    if number == 10:\n",
    "        break\n",
    "    print(number, end='  ')"
   ]
  },
  {
   "cell_type": "code",
   "execution_count": 79,
   "id": "3abb7457-f642-40a5-9eba-274221a62ddb",
   "metadata": {},
   "outputs": [
    {
     "name": "stdout",
     "output_type": "stream",
     "text": [
      "0  1  2  3  4  6  7  8  9  "
     ]
    }
   ],
   "source": [
    "for number in range(10):\n",
    "    if number == 5:\n",
    "        continue\n",
    "    print(number, end='  ')"
   ]
  },
  {
   "cell_type": "markdown",
   "id": "683346c6-f672-4841-9305-c8b30319a737",
   "metadata": {},
   "source": [
    "3.16 Exercises"
   ]
  },
  {
   "cell_type": "code",
   "execution_count": 81,
   "id": "7376c596-3ee6-4de3-98f0-82ad4de18b12",
   "metadata": {},
   "outputs": [
    {
     "name": "stdout",
     "output_type": "stream",
     "text": [
      "Senior female\n"
     ]
    }
   ],
   "source": [
    "gender = 'Female'\n",
    "\n",
    "age = 70\n",
    "\n",
    "if gender == 'Female' and age >= 65:\n",
    "    print('Senior female')"
   ]
  },
  {
   "cell_type": "code",
   "execution_count": 82,
   "id": "b68a99ca-4697-4e14-a7f6-9edaca1b902e",
   "metadata": {},
   "outputs": [
    {
     "name": "stdout",
     "output_type": "stream",
     "text": [
      "Student gets an A\n"
     ]
    }
   ],
   "source": [
    "semester_average = 83\n",
    "\n",
    "final_exam = 95\n",
    "\n",
    "if semester_average >= 90 or final_exam >= 90:\n",
    "    print('Student gets an A')"
   ]
  },
  {
   "cell_type": "code",
   "execution_count": 83,
   "id": "bdc8b9c9-8ce4-4af6-9595-1b8ff07309e5",
   "metadata": {},
   "outputs": [
    {
     "name": "stdout",
     "output_type": "stream",
     "text": [
      "The next grade is 87\n"
     ]
    }
   ],
   "source": [
    "grade = 87\n",
    "\n",
    "if not grade == -1:\n",
    "    print('The next grade is', grade)"
   ]
  },
  {
   "cell_type": "code",
   "execution_count": 84,
   "id": "7a86f8a8-51c4-4195-bbbf-10d306449f37",
   "metadata": {},
   "outputs": [],
   "source": [
    "i = 1\n",
    "\n",
    "j = 2\n",
    "\n",
    "k = 3\n",
    "\n",
    "m = 2"
   ]
  },
  {
   "cell_type": "code",
   "execution_count": 85,
   "id": "d377a651-e580-4331-85c2-b19db6020b76",
   "metadata": {},
   "outputs": [
    {
     "data": {
      "text/plain": [
       "True"
      ]
     },
     "execution_count": 85,
     "metadata": {},
     "output_type": "execute_result"
    }
   ],
   "source": [
    "(i >= 1) and (j < 4)"
   ]
  },
  {
   "cell_type": "markdown",
   "id": "1bb6ad84-57a6-46e3-a127-6c03e2d650d8",
   "metadata": {},
   "source": [
    "3.17 Exercise"
   ]
  },
  {
   "cell_type": "code",
   "execution_count": 86,
   "id": "1faafa6d-6729-408a-a0a9-5db7d3de537f",
   "metadata": {},
   "outputs": [
    {
     "data": {
      "text/plain": [
       "79.4"
      ]
     },
     "execution_count": 86,
     "metadata": {},
     "output_type": "execute_result"
    }
   ],
   "source": [
    "grades = [85, 93, 45, 89, 85]\n",
    "\n",
    "sum(grades) / len(grades)"
   ]
  },
  {
   "cell_type": "code",
   "execution_count": 87,
   "id": "5af31ea7-9e1f-4e83-8a8a-2c4c34555f16",
   "metadata": {},
   "outputs": [],
   "source": [
    "import statistics"
   ]
  },
  {
   "cell_type": "code",
   "execution_count": 88,
   "id": "bf36232e-3a3a-436f-a895-6d405edeeff5",
   "metadata": {},
   "outputs": [
    {
     "data": {
      "text/plain": [
       "79.4"
      ]
     },
     "execution_count": 88,
     "metadata": {},
     "output_type": "execute_result"
    }
   ],
   "source": [
    "statistics.mean(grades)"
   ]
  },
  {
   "cell_type": "code",
   "execution_count": 89,
   "id": "62980227-f142-4b90-a025-8d57b6f68b13",
   "metadata": {},
   "outputs": [
    {
     "data": {
      "text/plain": [
       "85"
      ]
     },
     "execution_count": 89,
     "metadata": {},
     "output_type": "execute_result"
    }
   ],
   "source": [
    "statistics.median(grades)"
   ]
  },
  {
   "cell_type": "code",
   "execution_count": 90,
   "id": "f2bbe48b-adaf-4a96-8086-d1fa46fb08dd",
   "metadata": {},
   "outputs": [
    {
     "data": {
      "text/plain": [
       "85"
      ]
     },
     "execution_count": 90,
     "metadata": {},
     "output_type": "execute_result"
    }
   ],
   "source": [
    "statistics.mode(grades)"
   ]
  },
  {
   "cell_type": "code",
   "execution_count": 91,
   "id": "b037942b-6fb1-4438-8eaf-5f64c99d7691",
   "metadata": {},
   "outputs": [
    {
     "data": {
      "text/plain": [
       "[45, 85, 85, 89, 93]"
      ]
     },
     "execution_count": 91,
     "metadata": {},
     "output_type": "execute_result"
    }
   ],
   "source": [
    "sorted(grades)"
   ]
  },
  {
   "cell_type": "code",
   "execution_count": 93,
   "id": "3707bb15-a339-4e65-a842-867b78801fc4",
   "metadata": {},
   "outputs": [
    {
     "data": {
      "text/plain": [
       "88"
      ]
     },
     "execution_count": 93,
     "metadata": {},
     "output_type": "execute_result"
    }
   ],
   "source": [
    "values = [47, 95, 88, 73, 88, 84]\n",
    "\n",
    "statistics.mean(values)\n",
    "\n",
    "statistics.median(values)\n",
    "\n",
    "statistics.mode(values)"
   ]
  },
  {
   "cell_type": "code",
   "execution_count": null,
   "id": "d073164d-1a60-44c1-9cf6-5b7d8f6e4180",
   "metadata": {},
   "outputs": [],
   "source": []
  }
 ],
 "metadata": {
  "kernelspec": {
   "display_name": "Python 3 (ipykernel)",
   "language": "python",
   "name": "python3"
  },
  "language_info": {
   "codemirror_mode": {
    "name": "ipython",
    "version": 3
   },
   "file_extension": ".py",
   "mimetype": "text/x-python",
   "name": "python",
   "nbconvert_exporter": "python",
   "pygments_lexer": "ipython3",
   "version": "3.9.12"
  }
 },
 "nbformat": 4,
 "nbformat_minor": 5
}
