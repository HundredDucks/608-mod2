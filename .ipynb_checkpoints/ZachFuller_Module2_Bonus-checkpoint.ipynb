{
 "cells": [
  {
   "cell_type": "code",
   "execution_count": 1,
   "id": "02ae7bdf-d260-4655-865d-5aec343fa2e5",
   "metadata": {},
   "outputs": [],
   "source": [
    "zjfList = [0, 1, 2, 3, 4, 5, 6, 6, 6, 6, 5, 4, 4, 4, 4, 4, 4, 4, 7, 7, 7, 8, 6, 9, 6, 6, 3, 3, 3, 3, 2, 2, 2, 1, 1, 1, 1, 1, 1, 1, 1, 4, 4, 4, 4, 4, 4, 4, 4, 8, 8, 8, 8, 8, 8, 8, 8, 8, 8, 8, 8, 8, 8, 7, 7, 7, 6, 7, 8, 9, 8, 9, 9, 9, 9, 4, 4, 3, 5, 5, 3, 2, 2, 1, 2, 2, 3, 3, 4, 5, 6, 6, 6, 6, 8, 7, 7, 7, 7, 7, 7, 7, 7, 7, 7, 7, 5]"
   ]
  },
  {
   "cell_type": "code",
   "execution_count": 2,
   "id": "4716f369-edc1-47ce-8d26-34661d6eefbb",
   "metadata": {},
   "outputs": [
    {
     "data": {
      "text/plain": [
       "107"
      ]
     },
     "execution_count": 2,
     "metadata": {},
     "output_type": "execute_result"
    }
   ],
   "source": [
    "len(zjfList)"
   ]
  },
  {
   "cell_type": "code",
   "execution_count": 3,
   "id": "8d349007-583a-4e3a-8f82-5f672aa9e7c7",
   "metadata": {},
   "outputs": [
    {
     "data": {
      "text/plain": [
       "555"
      ]
     },
     "execution_count": 3,
     "metadata": {},
     "output_type": "execute_result"
    }
   ],
   "source": [
    "sum(zjfList)"
   ]
  },
  {
   "cell_type": "code",
   "execution_count": 4,
   "id": "9ec2a57f-2959-4a04-8dd4-2f0d071390a0",
   "metadata": {},
   "outputs": [],
   "source": [
    "import statistics"
   ]
  },
  {
   "cell_type": "code",
   "execution_count": 5,
   "id": "7c9066b5-d167-4967-9b38-f8be076999c1",
   "metadata": {},
   "outputs": [
    {
     "data": {
      "text/plain": [
       "5.186915887850467"
      ]
     },
     "execution_count": 5,
     "metadata": {},
     "output_type": "execute_result"
    }
   ],
   "source": [
    "statistics.mean(zjfList)"
   ]
  },
  {
   "cell_type": "code",
   "execution_count": 6,
   "id": "614548d8-3d6f-47ff-be19-de58279ec774",
   "metadata": {},
   "outputs": [
    {
     "data": {
      "text/plain": [
       "6"
      ]
     },
     "execution_count": 6,
     "metadata": {},
     "output_type": "execute_result"
    }
   ],
   "source": [
    "statistics.median(zjfList)"
   ]
  },
  {
   "cell_type": "code",
   "execution_count": 7,
   "id": "3aee41c4-1eaf-431c-a1b0-e7bbd2b2f86e",
   "metadata": {},
   "outputs": [
    {
     "data": {
      "text/plain": [
       "4"
      ]
     },
     "execution_count": 7,
     "metadata": {},
     "output_type": "execute_result"
    }
   ],
   "source": [
    "statistics.mode(zjfList)"
   ]
  }
 ],
 "metadata": {
  "kernelspec": {
   "display_name": "Python 3 (ipykernel)",
   "language": "python",
   "name": "python3"
  },
  "language_info": {
   "codemirror_mode": {
    "name": "ipython",
    "version": 3
   },
   "file_extension": ".py",
   "mimetype": "text/x-python",
   "name": "python",
   "nbconvert_exporter": "python",
   "pygments_lexer": "ipython3",
   "version": "3.9.12"
  }
 },
 "nbformat": 4,
 "nbformat_minor": 5
}
