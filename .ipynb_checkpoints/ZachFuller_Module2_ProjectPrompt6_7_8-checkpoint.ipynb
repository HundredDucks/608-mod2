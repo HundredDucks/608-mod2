{
 "cells": [
  {
   "cell_type": "markdown",
   "id": "80f126dd-1feb-405e-848a-ad636eabc273",
   "metadata": {},
   "source": [
    "Zach Fuller's attempt at question 4 on page 110-111 for proejct prompt 6"
   ]
  },
  {
   "cell_type": "code",
   "execution_count": 1,
   "id": "29172707-3a77-4791-ac1c-40f9491c3fbf",
   "metadata": {},
   "outputs": [],
   "source": [
    "import statistics"
   ]
  },
  {
   "cell_type": "code",
   "execution_count": 2,
   "id": "1b298bc3-0c47-4047-9f21-55a06a58d662",
   "metadata": {},
   "outputs": [],
   "source": [
    "values = [47, 95, 88, 73, 88, 84]"
   ]
  },
  {
   "cell_type": "code",
   "execution_count": 3,
   "id": "df8ef05b-1138-499c-9626-e78a7dd89b0a",
   "metadata": {},
   "outputs": [
    {
     "data": {
      "text/plain": [
       "6"
      ]
     },
     "execution_count": 3,
     "metadata": {},
     "output_type": "execute_result"
    }
   ],
   "source": [
    "len(values)"
   ]
  },
  {
   "cell_type": "code",
   "execution_count": 4,
   "id": "e74019b5-b1c2-4807-9d4d-4bd77fa4717a",
   "metadata": {},
   "outputs": [
    {
     "data": {
      "text/plain": [
       "475"
      ]
     },
     "execution_count": 4,
     "metadata": {},
     "output_type": "execute_result"
    }
   ],
   "source": [
    "sum(values)"
   ]
  },
  {
   "cell_type": "code",
   "execution_count": 5,
   "id": "8a08db9d-9abf-4f00-9495-3791b4442632",
   "metadata": {},
   "outputs": [
    {
     "data": {
      "text/plain": [
       "79.16666666666667"
      ]
     },
     "execution_count": 5,
     "metadata": {},
     "output_type": "execute_result"
    }
   ],
   "source": [
    "sum(values) / len(values)"
   ]
  },
  {
   "cell_type": "markdown",
   "id": "ab97bdca-67d2-4d2e-a44b-cd2a2529a377",
   "metadata": {},
   "source": [
    "Zach Fuller's attempt at question 4 on page 110-111 for project prompt 7"
   ]
  },
  {
   "cell_type": "code",
   "execution_count": 6,
   "id": "4d99f512-63e3-4827-8d64-eeb01f28298d",
   "metadata": {},
   "outputs": [
    {
     "data": {
      "text/plain": [
       "79.16666666666667"
      ]
     },
     "execution_count": 6,
     "metadata": {},
     "output_type": "execute_result"
    }
   ],
   "source": [
    "statistics.mean(values)"
   ]
  },
  {
   "cell_type": "code",
   "execution_count": 7,
   "id": "03bef1fd-2cac-45a0-a3c1-80565445af40",
   "metadata": {},
   "outputs": [
    {
     "data": {
      "text/plain": [
       "86.0"
      ]
     },
     "execution_count": 7,
     "metadata": {},
     "output_type": "execute_result"
    }
   ],
   "source": [
    "statistics.median(values)"
   ]
  },
  {
   "cell_type": "code",
   "execution_count": 8,
   "id": "e2c5cf8b-e998-48d4-b246-41ca00f2bfa2",
   "metadata": {},
   "outputs": [
    {
     "data": {
      "text/plain": [
       "88"
      ]
     },
     "execution_count": 8,
     "metadata": {},
     "output_type": "execute_result"
    }
   ],
   "source": [
    "statistics.mode(values)"
   ]
  },
  {
   "cell_type": "markdown",
   "id": "dea452ba-4d8f-4b77-9611-c9970b5fdeb0",
   "metadata": {},
   "source": [
    "Zach Fuller's attempt at project prompt 8"
   ]
  },
  {
   "cell_type": "code",
   "execution_count": 9,
   "id": "7d7f4fa3-f47c-4b2c-9c9b-04a08b6da814",
   "metadata": {},
   "outputs": [],
   "source": [
    "zfList = [24, 34, 45, 56, 67, 56, 54, 87, 54, 54, 28, 71, 18, 10, 33]"
   ]
  },
  {
   "cell_type": "code",
   "execution_count": 10,
   "id": "82aa1fae-a42f-42b6-8a52-1d82d3f6e804",
   "metadata": {},
   "outputs": [
    {
     "data": {
      "text/plain": [
       "15"
      ]
     },
     "execution_count": 10,
     "metadata": {},
     "output_type": "execute_result"
    }
   ],
   "source": [
    "len(zfList)"
   ]
  },
  {
   "cell_type": "code",
   "execution_count": 11,
   "id": "e284c697-5214-4e48-a0f7-e4579732a335",
   "metadata": {},
   "outputs": [
    {
     "data": {
      "text/plain": [
       "691"
      ]
     },
     "execution_count": 11,
     "metadata": {},
     "output_type": "execute_result"
    }
   ],
   "source": [
    "sum(zfList)"
   ]
  },
  {
   "cell_type": "code",
   "execution_count": 12,
   "id": "ede08ccc-f1bc-4cb2-af7b-de75fa29be45",
   "metadata": {},
   "outputs": [
    {
     "data": {
      "text/plain": [
       "46.06666666666667"
      ]
     },
     "execution_count": 12,
     "metadata": {},
     "output_type": "execute_result"
    }
   ],
   "source": [
    "statistics.mean(zfList)"
   ]
  },
  {
   "cell_type": "code",
   "execution_count": 13,
   "id": "a3947063-1d28-4dcd-9dd9-75dd48ed8613",
   "metadata": {},
   "outputs": [
    {
     "data": {
      "text/plain": [
       "54"
      ]
     },
     "execution_count": 13,
     "metadata": {},
     "output_type": "execute_result"
    }
   ],
   "source": [
    "statistics.median(zfList)"
   ]
  },
  {
   "cell_type": "code",
   "execution_count": 14,
   "id": "f8737f74-1515-4180-a625-25538f7d2412",
   "metadata": {},
   "outputs": [
    {
     "data": {
      "text/plain": [
       "54"
      ]
     },
     "execution_count": 14,
     "metadata": {},
     "output_type": "execute_result"
    }
   ],
   "source": [
    "statistics.mode(zfList)"
   ]
  }
 ],
 "metadata": {
  "kernelspec": {
   "display_name": "Python 3 (ipykernel)",
   "language": "python",
   "name": "python3"
  },
  "language_info": {
   "codemirror_mode": {
    "name": "ipython",
    "version": 3
   },
   "file_extension": ".py",
   "mimetype": "text/x-python",
   "name": "python",
   "nbconvert_exporter": "python",
   "pygments_lexer": "ipython3",
   "version": "3.9.12"
  }
 },
 "nbformat": 4,
 "nbformat_minor": 5
}
